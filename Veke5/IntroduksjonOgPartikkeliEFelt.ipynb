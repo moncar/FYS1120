{
 "metadata": {
  "name": ""
 },
 "nbformat": 3,
 "nbformat_minor": 0,
 "worksheets": [
  {
   "cells": [
    {
     "cell_type": "markdown",
     "metadata": {},
     "source": [
      "<h1 align= \"center\"> Notebook 1: Introduksjon til IPython Notebook</h1>"
     ]
    },
    {
     "cell_type": "markdown",
     "metadata": {},
     "source": [
      "IPython Notebook er er verkt\u00f8y for \u00e5 lage dokumenter som kombinerer tekst, figurer, matematikk og kode. Dette dokumentet gir en kort introduksjon til dette verkt\u00f8yet, og er ment \u00e5 gi tilstrekkelig kunnskap til \u00e5 levere oblig 2 i IPython Notebook."
     ]
    },
    {
     "cell_type": "markdown",
     "metadata": {},
     "source": [
      "### Kj\u00f8re IPython Notebook\n",
      "\n",
      "For \u00e5 \u00e5pne IPython Notebook, skriver man i terminalen:\n",
      "\n",
      "    ipython notebook --pylab inline\n",
      "    \n",
      "Dette \u00e5pner opp nettleseren, og man kan trykke \"New Notebook\". Da \u00e5pnes et nytt vindu med en tom notebook. Det viktigste konseptet i IPython Notebook, er celler. Alt innhold ligger i celler. Du kan klikke p\u00e5 teksten du n\u00e5 leser f\u00e5r \u00e5 se rammen til cellen teksten ligger i. Dersom du dobbelklikker p\u00e5 cellen, vil du f\u00e5 mulighet til \u00e5 redigere innholdet. Man lager en ny celle ved \u00e5 trykke p\u00e5 fanen *Cell*, og velge enten *Insert Cell Above* eller *Insert Cell Below*. En nedfallsmeny lar deg velge om cellen skal ta *Code*, *Markdown* eller *Raw Text*. I dette dokumentet brukes kun markdown og kode, og avsnittet du leser akkurat n\u00e5, er skrevet i en markdown-celle. "
     ]
    },
    {
     "cell_type": "markdown",
     "metadata": {},
     "source": [
      "### Kode \n",
      "Man kan skrive Python-kode i kodeceller, og n\u00e5r man kj\u00f8rer den, vil den oppf\u00f8re seg som helt vanlig Python-kode. N\u00e5r man kj\u00f8rer koden i en kodecelle, kan andre kodeceller bruke resultatene fra den kodecellen man nettopp kj\u00f8rte. Det betyr at dersom jeg definerte en variabel *a = 2.2* i en celle, og kj\u00f8rer denne, s\u00e5 er *a* tilgjengelig i alle andre kodeceller. Det er mulig \u00e5 kj\u00f8re all koden i dokumentet fra *Cell -> Run All*"
     ]
    },
    {
     "cell_type": "markdown",
     "metadata": {},
     "source": [
      "### Kodeeksempel\n",
      "Kj\u00f8r koden ved \u00e5 trykke p\u00e5 kodecellen og deretter bruke tastekombinasjonen *Shift+Enter*."
     ]
    },
    {
     "cell_type": "code",
     "collapsed": false,
     "input": [
      "print \"Hei verden fra IPython Notebook!\""
     ],
     "language": "python",
     "metadata": {},
     "outputs": [
      {
       "output_type": "stream",
       "stream": "stdout",
       "text": [
        "Hei verden fra IPython Notebook!\n"
       ]
      }
     ],
     "prompt_number": 1
    },
    {
     "cell_type": "markdown",
     "metadata": {},
     "source": [
      "### Plotting\n",
      "IPython Notebook st\u00f8tter *inline-plotting*, som vil si at dersom du kj\u00f8rer kode med en plot-kommando, vil figuren dukke opp mellom kodecellen og neste celle i dokumentet. Det er denne funksjonaliteten man f\u00e5r ved \u00e5 skrive *--pylab inline* n\u00e5r man starter opp IPython Notebook. Pylab-plotting har syntax som ligger sv\u00e6rt n\u00e6rt b\u00e5de Matlab, Scitools og Matplotlib."
     ]
    },
    {
     "cell_type": "code",
     "collapsed": false,
     "input": [
      "def f(x):\n",
      "    return x + sin(x)\n",
      "\n",
      "x = linspace(0, 10, 100)\n",
      "y = f(x)\n",
      "plot(x, y, label=\"f(x)\")\n",
      "xlabel(\"Tid\")\n",
      "ylabel(\"Posisjon\")\n",
      "title(\"Et plott av funksjonen $f(x) = x + \\sin(x)$\")\n",
      "legend()"
     ],
     "language": "python",
     "metadata": {},
     "outputs": [
      {
       "metadata": {},
       "output_type": "pyout",
       "prompt_number": 13,
       "text": [
        "<matplotlib.legend.Legend at 0x7f08b8ae5fd0>"
       ]
      },
      {
       "metadata": {},
       "output_type": "display_data",
       "png": "[encoded data removed]",
       "text": [
        "<matplotlib.figure.Figure at 0x7f08b8c729d0>"
       ]
      }
     ],
     "prompt_number": 13
    },
    {
     "cell_type": "markdown",
     "metadata": {},
     "source": [
      "### Latex-st\u00f8tte\n",
      "IPython notebook har st\u00f8tte for matematikk med Latex-syntax innenfor celler av typen *Markdown*.\n",
      "\n",
      "#### Eksempel"
     ]
    },
    {
     "cell_type": "raw",
     "metadata": {},
     "source": [
      "\\begin{equation} \n",
      "    f(x) = \\sqrt{\\frac{2x}{3}} \n",
      "\\end{equation}"
     ]
    },
    {
     "cell_type": "markdown",
     "metadata": {},
     "source": [
      "\\begin{equation} \n",
      "    f(x) = \\sqrt{\\frac{2x}{3}} \n",
      "\\end{equation}"
     ]
    },
    {
     "cell_type": "markdown",
     "metadata": {},
     "source": [
      "--------"
     ]
    },
    {
     "cell_type": "heading",
     "level": 1,
     "metadata": {},
     "source": [
      "Partikkel i elektrisk felt i 2 dimensjoner"
     ]
    },
    {
     "cell_type": "markdown",
     "metadata": {},
     "source": [
      "Herifra kommer et eksempel p\u00e5 hvordan IPython Notebook kan brukes til \u00e5 l\u00f8se en numerisk fysikkoppgave. Denne ligner p\u00e5 en av oppgavene som kommer p\u00e5 oblig 2. \n",
      "\n",
      "### **Oppgave:** *Lag et program som beregner banen til en ladd partikkel med en eller annen hastighet, som kommer inn i et uniformt og konstant elektrisk felt.*\n"
     ]
    },
    {
     "cell_type": "markdown",
     "metadata": {},
     "source": [
      "Vi begynner med \u00e5 sette opp Newtons 2. lov for problemet:\n",
      "\n",
      "<center>\n",
      "$ \\sum \\mathbf F = m\\ddot{x} $\n",
      "<br><br>\n",
      "$ q\\mathbf E = m\\ddot{x} $\n",
      "</center>\n",
      "<br>\n",
      "\n",
      "Fra FYS-MEK1110 vet vi at denne differensiallikningen kan l\u00f8ses med Euler-Cromers metode:\n",
      "<br><br>\n",
      "<center>\n",
      "$\\mathbf{v} (t + \\Delta t) = \\mathbf v(t) + \\mathbf{a}(t) \\ \\Delta t$\n",
      "<br><br>\n",
      "$\\mathbf r(t + \\Delta t) = \\mathbf r(t) + \\mathbf v (t+\\Delta t) \\ \\Delta t$\n",
      "</center>\n",
      "<br>\n",
      "<br> \n",
      "\n",
      "I v\u00e5rt tilfelle ser vi at $\\mathbf{a}(t) = \\ddot{x}(t) = q\\mathbf{E}/m$ er konstant siden det elektriske feltet ikke endrer seg. Dermed trenger vi ikke \u00e5 beregne akselerasjonen i hvert tidssteg.\n"
     ]
    },
    {
     "cell_type": "heading",
     "level": 3,
     "metadata": {},
     "source": [
      "Steg 1: Definer konstanter og initialbetingelser"
     ]
    },
    {
     "cell_type": "markdown",
     "metadata": {},
     "source": [
      "Vi velger oss en feltstyrke, og initialposisjon, initialhastighet, ladning og masse for partikkelen. I tillegg m\u00e5 vi velge hvor lenge vi skal simulere, og hva tidssteget skal v\u00e6re. Man kan beregne hva tidssteget b\u00f8r v\u00e6re ved \u00e5 gj\u00f8re grundigere analyse av ligningene, men det skal vi ikke komme inn p\u00e5 i FYS1120."
     ]
    },
    {
     "cell_type": "code",
     "collapsed": false,
     "input": [
      "q = 2.2 # coulomb\n",
      "E = array((0.0, 1.3)) # Volt/meter\n",
      "m = 3.4 # kilogram\n",
      "dt = 1e-3 # sekunder\n",
      "T = 10.0 # sekunder \n",
      "v0 = [1.01, 2.03] # meter/sekund"
     ],
     "language": "python",
     "metadata": {},
     "outputs": [],
     "prompt_number": 2
    },
    {
     "cell_type": "markdown",
     "metadata": {},
     "source": [
      "---"
     ]
    },
    {
     "cell_type": "heading",
     "level": 3,
     "metadata": {},
     "source": [
      "Steg 2: Sett opp arrays og initialbetingelser"
     ]
    },
    {
     "cell_type": "markdown",
     "metadata": {},
     "source": [
      "Vi setter s\u00e5 opp arrays som skal lagre tider og posisjoner for alle tidsstegene i simuleringen. I tillegg legger vi inn initialbetingelser."
     ]
    },
    {
     "cell_type": "code",
     "collapsed": false,
     "input": [
      "t = linspace(0, T, T/dt)\n",
      "\n",
      "Nt = len(t)\n",
      "\n",
      "r = zeros((Nt,2)) # Vi lager en array for \u00e5 lagre posisjoner for hele simuleringen\n",
      "v = zeros((Nt,2)) # Tilsvarende for hastighet\n",
      "\n",
      "r[0] = [1.8, 1.2] # Initiell posisjon for partikkelen (x, y)\n",
      "v[0] = [3.4, 0.0] # Initiell hastighet for partikkelen"
     ],
     "language": "python",
     "metadata": {},
     "outputs": [],
     "prompt_number": 3
    },
    {
     "cell_type": "heading",
     "level": 3,
     "metadata": {},
     "source": [
      "Steg 3: Beregn bevegelsen med Euler-Cromers metode"
     ]
    },
    {
     "cell_type": "markdown",
     "metadata": {},
     "source": [
      "Vi begynner med \u00e5 finne akselerasjonen."
     ]
    },
    {
     "cell_type": "code",
     "collapsed": false,
     "input": [
      "a = q*E/m"
     ],
     "language": "python",
     "metadata": {},
     "outputs": [],
     "prompt_number": 4
    },
    {
     "cell_type": "markdown",
     "metadata": {},
     "source": [
      "N\u00e5r vi har funnet akselerasjonen, kan vi bruke Euler-Cromers metode til \u00e5 beregne bevegelsen. "
     ]
    },
    {
     "cell_type": "code",
     "collapsed": false,
     "input": [
      "for i in range(Nt-1): \n",
      "    v[i+1] = v[i] + a*dt\n",
      "    r[i+1] = r[i] + v[i+1]*dt"
     ],
     "language": "python",
     "metadata": {},
     "outputs": [],
     "prompt_number": 6
    },
    {
     "cell_type": "markdown",
     "metadata": {},
     "source": [
      " Merk at vi har vektorisert operasjonene inni l\u00f8kken. Dette skjuler at vi opererer i 2 dimensjoner. Vi kunne ogs\u00e5 skrevet:\n",
      "     \n",
      "     for i in range(Nt-1): \n",
      "        for j in range(2):\n",
      "            v[i+1][j] = v[i][j] + a[j]*dt\n",
      "            r[i+1][j] = r[i][j] + v[i+1][j]*dt\n",
      "            \n",
      "Dette gir imidlertid d\u00e5rligere ytelse."
     ]
    },
    {
     "cell_type": "markdown",
     "metadata": {},
     "source": [
      "*Merk at dersom kraften, og dermed akselerasjoen til partikkelen var anhengig av tid eller av hastigheten til partikkelen, m\u00e5tte vi beregnet akselerasjonen i hvert tidssteg, alts\u00e5 p\u00e5 innsiden av l\u00f8kken. Et eksempel p\u00e5 en kraft som er avhengig av hastigheten til partikkelen, er kraften fra et magnetfelt p\u00e5 en ladd partikkel.*\n",
      "\n",
      "---"
     ]
    },
    {
     "cell_type": "heading",
     "level": 3,
     "metadata": {},
     "source": [
      "Steg 4: Plott banen til partikkelen"
     ]
    },
    {
     "cell_type": "markdown",
     "metadata": {},
     "source": [
      "Vi har n\u00e5 beregnet posisjon og hastighet for partikkelen for $ 0 < t < T $, og vi kan plotte resultatet. Siden vi "
     ]
    },
    {
     "cell_type": "code",
     "collapsed": false,
     "input": [
      "figure()\n",
      "plot(r[:,0], r[:,1], label=\"Partikkelbane\")\n",
      "xlabel(\"x\")\n",
      "ylabel(\"y\")\n",
      "title(\"Bane for ladd partikkel i elektrisk felt\")\n",
      "legend()"
     ],
     "language": "python",
     "metadata": {},
     "outputs": [
      {
       "metadata": {},
       "output_type": "pyout",
       "prompt_number": 7,
       "text": [
        "<matplotlib.legend.Legend at 0x7fd4d056fd90>"
       ]
      },
      {
       "metadata": {},
       "output_type": "display_data",
       "png": "[encoded data removed]",
       "text": [
        "<matplotlib.figure.Figure at 0x7fd4d063b690>"
       ]
      }
     ],
     "prompt_number": 7
    },
    {
     "cell_type": "markdown",
     "metadata": {},
     "source": [
      "Bevegelsen ligner p\u00e5 en parabel. Dette er en bevegelse vi kjenner igjen fra skr\u00e5tt kast i konstant gravitasjonsfelt. "
     ]
    }
   ],
   "metadata": {}
  }
 ]
}